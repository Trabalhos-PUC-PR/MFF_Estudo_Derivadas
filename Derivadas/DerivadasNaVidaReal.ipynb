{
  "nbformat": 4,
  "nbformat_minor": 0,
  "metadata": {
    "colab": {
      "name": "VidaRealDerivadas.ipynb",
      "provenance": [],
      "collapsed_sections": []
    },
    "kernelspec": {
      "name": "python3",
      "display_name": "Python 3"
    },
    "language_info": {
      "name": "python"
    }
  },
  "cells": [
    {
      "cell_type": "markdown",
      "metadata": {
        "id": "-FYMqYD1n3Ez"
      },
      "source": [
        "# Aplicações de Derivadas"
      ]
    },
    {
      "cell_type": "markdown",
      "metadata": {
        "id": "q62hu88In6uN"
      },
      "source": [
        "##Problema 1\n",
        "Entre todos os retângulos possíveis, de area igual a 100. Encontre aquele com o menor perímetro. "
      ]
    },
    {
      "cell_type": "markdown",
      "metadata": {
        "id": "2Mv9nRRPoEfM"
      },
      "source": [
        "#Solução 1\n",
        "Considerando um retângulo de área 100, se $x$ representa um dos lados do retângulo, o outro lado será representado por $\\frac{100}{x}$ tal que: \n",
        "$$x\\times \\frac{100}{x} = 100$$\n",
        "\n",
        "Agora precisamos lembrar que o perímetro de um retângulo é dado pela soma dos comprimento dos quatro lados. Ou seja, teremos $2x$ para os dois lados de comprimento $x$ e $\\frac{2\\times 100}{x}$ para os dois lados de comprimento $\\frac{100}{x}$. Logo a função que determina o perímetro de um retângulo pode ser: \n",
        "$$f_{(x)} = 2x+\\frac{2\\times 100}{x} $$\n",
        "Precisamos também lembrar que não faz sentido termos retângulos com lado negativo logo: $x>0$. Sabemos também que os pontos críticos de uma função são determinados pela sua primeira derivada. Logo: \n",
        "$$\\frac{d}{dx}f_{(x)} =\\frac{d}{dx}2x+\\frac{d}{dx}200\\times x^{-1} = 2 -200x^{-2} = 2-\\frac{200}{x^2}$$\n",
        "Precisamos agora achar o ponto onde a função derivada é zero.  </br>\n",
        "$0 = 2-\\frac{200}{x^2}$ </br>\n",
        "$2 = \\frac{200}{x^2}$ </br>\n",
        "$2x^2=200$ </br>\n",
        "$x^2=100$ </br>\n",
        "$x=\\pm 10$ </br>\n",
        "Podemos descartar $-10$. Precisamos agora determinar se $x=10$ é um ponto de máximo, mínimo ou inflexão. Para isso, precisamos da derivada segunda, ou da derivada da derivada. Logo: </br>\n",
        "$\\frac{d}{dx}f\"_{(x)} = \\frac{d}{dx}2 - \\frac{d}{dx}\\frac{200}{x^2}$ </br>\n",
        "$\\frac{d}{dx}f\"_{(x)} = - \\frac{d}{dx}200x^{-2}$ </br>\n",
        "$\\frac{d}{dx}f\"_{(x)} = 400x^{-3}$ </br>\n",
        "Substituindo no ponto $x=10$ teremos:\n",
        "$\\frac{d}{dx}f'_{(x)} = 400(10)^{-3} = \\frac{400}{1000} = 0.4$ </br>\n",
        "Ou seja, no ponto $x=10$ a derivada segunda de $f_{(x)}>0$ indicando que $x=10$ é um ponto de mínimo. Sendo assim, o retângulo com o menor perímetro é o retângulo $10 \\times 10$"
      ]
    },
    {
      "cell_type": "code",
      "metadata": {
        "colab": {
          "base_uri": "https://localhost:8080/"
        },
        "id": "3t-sXZD_tl5l",
        "outputId": "49c5d7df-ef00-49e6-e283-041555cfedae"
      },
      "source": [
        "import sympy as sp\n",
        "x,y,z = sp.symbols('x y z')\n",
        "print('feito')"
      ],
      "execution_count": null,
      "outputs": [
        {
          "output_type": "stream",
          "text": [
            "feito\n"
          ],
          "name": "stdout"
        }
      ]
    },
    {
      "cell_type": "code",
      "metadata": {
        "colab": {
          "base_uri": "https://localhost:8080/",
          "height": 292
        },
        "id": "KxGvdGtQtwSg",
        "outputId": "0bff2a33-85ea-43f1-b3fd-722e4cbc8535"
      },
      "source": [
        "print(\"função: \")\n",
        "f = 2*x+200/x\n",
        "display(f)\n",
        "print(\"Primeira derivada: \")\n",
        "df = sp.diff(f,x)\n",
        "display(df)\n",
        "print(\"Segunda derivada: \")\n",
        "dff = sp.diff(df,x)\n",
        "display(dff)\n",
        "#encontrando a raiz da primeira derivada\n",
        "print(\"Raiz da primeira derivada: \")\n",
        "display(sp.solve(df,x))\n",
        "#verificando o valor da segunda derivada\n",
        "print(\"Valor da segunda derivada no ponto: \")\n",
        "display(dff.subs(x,10))\n",
        "print(\"Ou, valor da segunda derivada no ponto: \")\n",
        "display(dff.subs(x,10).evalf())\n"
      ],
      "execution_count": null,
      "outputs": [
        {
          "output_type": "stream",
          "text": [
            "função: \n"
          ],
          "name": "stdout"
        },
        {
          "output_type": "display_data",
          "data": {
            "text/latex": "$\\displaystyle 2 x + \\frac{200}{x}$",
            "text/plain": [
              "2*x + 200/x"
            ]
          },
          "metadata": {
            "tags": []
          }
        },
        {
          "output_type": "stream",
          "text": [
            "Primeira derivada: \n"
          ],
          "name": "stdout"
        },
        {
          "output_type": "display_data",
          "data": {
            "text/latex": "$\\displaystyle 2 - \\frac{200}{x^{2}}$",
            "text/plain": [
              "2 - 200/x**2"
            ]
          },
          "metadata": {
            "tags": []
          }
        },
        {
          "output_type": "stream",
          "text": [
            "Segunda derivada: \n"
          ],
          "name": "stdout"
        },
        {
          "output_type": "display_data",
          "data": {
            "text/latex": "$\\displaystyle \\frac{400}{x^{3}}$",
            "text/plain": [
              "400/x**3"
            ]
          },
          "metadata": {
            "tags": []
          }
        },
        {
          "output_type": "stream",
          "text": [
            "Raiz da primeira derivada: \n"
          ],
          "name": "stdout"
        },
        {
          "output_type": "display_data",
          "data": {
            "text/plain": [
              "[-10, 10]"
            ]
          },
          "metadata": {
            "tags": []
          }
        },
        {
          "output_type": "stream",
          "text": [
            "Valor da segunda derivada no ponto: \n"
          ],
          "name": "stdout"
        },
        {
          "output_type": "display_data",
          "data": {
            "text/latex": "$\\displaystyle \\frac{2}{5}$",
            "text/plain": [
              "2/5"
            ]
          },
          "metadata": {
            "tags": []
          }
        },
        {
          "output_type": "stream",
          "text": [
            "Ou, valor da segunda derivada no ponto: \n"
          ],
          "name": "stdout"
        },
        {
          "output_type": "display_data",
          "data": {
            "text/latex": "$\\displaystyle 0.4$",
            "text/plain": [
              "0.400000000000000"
            ]
          },
          "metadata": {
            "tags": []
          }
        }
      ]
    },
    {
      "cell_type": "markdown",
      "metadata": {
        "id": "2h1fSuj4wWar"
      },
      "source": [
        "#Problema 2\n",
        "Você foi encarregado de determinar o melhor preço e o número de itens que devem ser vendidos para maximizar o lucro da sua empresa. Uma pesquisa indicou que se você fixar o preço em $1,50$, será capaz de vender 5000 itens. Contudo, a cada $0.10$ de redução no preço de venda você terá um aumento de 1000, no múmero de itens vendidos. Considere que seus custos fixos são de $2000.00$ e que existe um custo marginal de $0.50$ por item produzido. Encontre o preço de venda que gerará o maior lucro."
      ]
    },
    {
      "cell_type": "markdown",
      "metadata": {
        "id": "eE6cWE8jxVfk"
      },
      "source": [
        "#Solução 2\n",
        "Este é um problema de máximo (lucro máximo) então precisamos de uma equação que relacione o lucro para um preço $x$ qualquer $L_{(x)}$.\n",
        "Também podemos dizer que lucro é faturamento, ou vendas, menos custos (fixos e variáveis). Por outro lado, o faturamento será determinado pelo número de ítens vendidos $n$, multiplicado pelo preço de venda $x$. Logo: \n",
        "$$L = nx-2000-0.5n$$\n",
        "Neste momento, antes de meter as mãos, é bom lembrar que o número de itens vendidos, $n$. Considerando os dados do problema podemos observar que existe um número de itens teremos a mais sempre que baixarmos o preço em $0.10$ que é dado por: \n",
        "$$1000(1.5-x)/0.10$$\n",
        "Logo o número de itens que venderemos será dado por: </br>\n",
        "$$n=5000+\\frac{1000(1.5-x)}{0.10}$$\n",
        "Substituindo na função do lucro teremos:  </br>\n",
        "$$L = (5000+\\frac{1000(1.5-x)}{0.10})x-2000-0.5(5000+\\frac{1000(1.5-x)}{0.10})$$\n",
        "\n",
        "$L = 5000x+\\frac{1000(1.5-x)x}{0.10}-2000-2500-\\frac{500(1.5-x)}{0.10}$ </br> </br>\n",
        "$L = 5000x+15000x-10000x^2-4500-7500+5000x$ </br>\n",
        "$L = 25000x-10000x^2-12000$ </br>\n",
        "\n",
        "Agora as coisas começam a ficar interessantes. Primeiro, observe que o problema determina um intervalo. \n",
        "Para maximizar o lucro, você não vai vender nada com preço negativo. E o próprio enunciado lhe diz que o valor máximo de venda será $1.5$ então, o valor que estamos procurando está no intervalo $0 \\lt x \\lt 1.5$ e,vamos precisar calcular uma derivada:\n",
        "$\\frac{d}{dx}L = \\frac{d}{dx}25000x-\\frac{d}{dx}10000x^2-\\frac{d}{dx}12000 = 25000-20000x$ </br>\n",
        "Precisamos encontra um ponto critico para a função $L$ fazendo:\n",
        "$0= 25000-20000x$</br>\n",
        "$25000=20000x$</br>\n",
        "$x=1.25$</br>\n",
        "Há somente um ponto crítico nesta função precisamos verificar se é um máximo, para isso precisamos da derivada segunda ou: \n",
        "$\\frac{d}{dx}25000-20000x = -20000$</br>\n",
        "Como a derivada segunda é menor que zero $x=1.25$ é um ponto de máximo. Sendo assim, o lucro máximo será de: \n",
        "$L = 25000(1.25)-10000(1.25)^2-12000$</br>\n",
        "$L = 31250-15625-12000 = 3625$\n",
        "Que será obtito com a venda de: \n",
        "$n=5000+10000(1.5-1.25)$</br>\n",
        "$n=5000+10000(0.25)=7500$</br>\n",
        "\n",
        "Faça agora o cálculo em python.\n"
      ]
    },
    {
      "cell_type": "markdown",
      "metadata": {
        "id": "G8M55_9FTFQX"
      },
      "source": [
        "# Problema 3\n",
        "Você é responsável pelo projeto de criação de uma linha de distribuição de energia que irá conectar um gerador eólico instalado no mar a 1km da costa, com uma central de distribuição, no solo, localizada a 5km da estação eólica, como pode ser visto na figura a seguir: ![eolica.jpg](data:image/jpeg;base64,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)\n",
        "\n",
        "Considere que terá um custo de $50.00$ a cada metro de instalação na terra e $130.00$ a cada metro de instalação da linha de transmissão sob o oceano. Determine o comprimento que deve ser percorrido em terra para minimizar o custo total de instalação."
      ]
    },
    {
      "cell_type": "markdown",
      "metadata": {
        "id": "Sry4TySKhCxT"
      },
      "source": [
        "#Solução 3\n",
        "Correr a linha de transmissão ligando diretamente os dois pontos irá provocar um custo muito alto já que será o maior trajeto possível sob o oceano. \n",
        "\n",
        "Talvez correr a linha de transissão por toda a costa e percorrer apenas $1km$ sob o oceano parece ser uma boa solução. Mas, não temos como garantir que seja o menor custo possível. \n",
        "\n",
        "Aparentemente, a melhor solução será encontrada se corrermos a linha pela terra, e, em um ponto qualquer, passarmos para a água. Podemos dizer que o ponto de entrada no oceano se dará na distância $5000-x$, neste caso $x$ será o cateto de um triangulo retângulo que ficará sob a terra, $1000m$ é o cateto do triangulo que ficará sob a água e nos restará calcular a hipotenusa deste triangulo, parte sob o oceano, que será dada por: \n",
        "$$h=\\sqrt{x^2+1000^2}$$\n",
        "\n",
        "Agora que temos o comprimento sobre a terra $5000-x$ e o comprimento sob o oceano $h=\\sqrt{x^2+1000^2}$ podemos criar uma função de custo somando os custos sobre a terra e sob o oceano. \n",
        "$$C=50(5000-x)+130(\\sqrt{x^2+1000^2})$$\n",
        "\n",
        "Você precisa perceber que o enunciado do problema garante que esta função só faz sentido no intervalo $[0,5000]$. Para encontar o valor mínimo, precisaremos determinar os pontos críticos da função de custo. Começamos simplificando esta equação: </br> \n",
        "\n",
        "$C=250000-50x+130(\\sqrt{x^2+1000^2})$ </br>\n",
        "\n",
        "Agora precisamos calcular a primeira derivada de $C$, logo: </br>\n",
        "\n",
        "$\\frac{d}{dx}C=\\frac{d}{dx}250000-\\frac{d}{dx}50x+\\frac{d}{dx}130(\\sqrt{x^2+1000^2})$ </br>\n",
        "\n",
        "$\\frac{d}{dx}C=-50+130\\frac{d}{dx}(\\sqrt{x^2+1000^2})$ </br>\n",
        "\n",
        "Usando a Regra da Cadeia: </br>\n",
        "$g=\\sqrt{x^2+1000^2} = (x^2+1000^2)^{1/2}$ </br>\n",
        "$\\frac{d}{dx}g=\\sqrt{x^2+1000^2} = \\frac{d}{dx}(x^2+1000^2)^{1/2} = \\frac{1}{2}(x^2+1000^2)^{-1/2}$ </br>\n",
        "\n",
        "$f = x^2+1000^2$ </br>\n",
        "$\\frac{d}{dx}f = \\frac{d}{dx}x^2+\\frac{d}{dx}1000^2$ </br>\n",
        "$\\frac{d}{dx}f = 2x$ </br>\n",
        "\n",
        "Logo: \n",
        "$\\frac{d}{dx}C=50+130\\times \\frac{1}{2}\\times (x^2+1000^2)^{-1/2}\\times 2x$ </br>\n",
        "\n",
        "$\\frac{d}{dx}C=-50+130x(x^2+1000^2)^{-1/2}$ </br>\n",
        "\n",
        "Uma vez que encontramos a derivada, precisamos encontrar suas raízes. \n",
        "\n",
        "$0=-50+130x(x^2+1000^2)^{-1/2}$ </br>\n",
        "$50=130x(x^2+1000^2)^{-1/2}$ </br>\n",
        "$50(x^2+1000^2)^{1/2}=130x$ </br>\n",
        "Elevando ao quadrado do dois lados temos: </br>\n",
        "$50^2(x^2+1000^2)=130^2x^2$ </br>\n",
        "$50^2x^2+50^2\\times 1000^2=130^2x^2$ </br>\n",
        "$50^2\\times 1000^2=130^2x^2-50^2x^2$ </br>\n",
        "$50^2\\times 1000^2=(130^2-50^2)x^2$ </br>\n",
        "$x^2=\\frac{50^2\\times 1000^2}{130^2-50^2}$ </br>\n",
        "$x=\\sqrt{\\frac{50^2\\times 1000^2}{130^2-50^2}} = 416.667$ </br>\n",
        "\n",
        "Neste ponto $x=416.667$ temos um ponto crítico. Será mínimo se a derivada segunda for maior que zero neste ponto. Logo precisamos calcular a derivada: </br>\n",
        "\n",
        "$\\frac{d}{dx}-50+\\frac{d}{dx}130x(x^2+1000^2)^{-1/2}$ </br>\n",
        "$\\frac{d}{dx}130x(x^2+1000^2)^{-1/2}$ </br>\n",
        "\n",
        "$130\\frac{d}{dx}x(x^2+1000^2)^{-1/2}$ </br>\n",
        "\n",
        "Para resolver esta derivada, precisamos de uma nova regra de derivação: \n",
        "$$\\frac{d}{dx}(uv) = u\\frac{dv}{dx}+v\\frac{du}{dx}$$\n",
        "\n",
        "Para nosso caso faremos:  </br>\n",
        "\n",
        "$u=x \\therefore \\frac{du}{dx}x = 1$  </br>\n",
        "$v = (x^2+1000^2)^{-1/2} = \\frac{1}{\\sqrt{x^2+1000^2}}$  </br>\n",
        "\n",
        "Teremos que calcular:  </br>\n",
        "\n",
        "$\\frac{dv}{dx}v = \\frac{dv}{dx}(x^2+1000^2)^{-1/2} = \\frac{d}{dx}\\frac{1}{\\sqrt{x^2+1000^2}}$ </br>\n",
        "\n",
        "Para isso temos que voltar a regra da cadeia: </br>\n",
        "$g = \\sqrt{x^2+1000^2} =(x^2+1000^2)^{-1/2} \\therefore \\frac{d}{dx} g= -\\frac{1}{2}(x^2+1000^2)^{-3/2} $ </br>\n",
        "$f = x^2+1000^2 \\therefore \\frac{d}{dx} f = 2x$\n",
        "\n",
        "$\\frac{d}{dx}\\frac{1}{\\sqrt{x^2+1000^2}} = 2x\\times-\\frac{1}{2}(x^2+1000^2)^{-3/2} = x((x^2+1000^2)^{-3/2})= -\\frac{x}{\\sqrt{(x^2+1000^2)^{3}}}$\n",
        "\n",
        "Voltamos a Regra do produto: </br>\n",
        "$$\\frac{d}{dx}(uv) = u\\frac{dv}{dx}+v\\frac{du}{dx}$$\n",
        "\n",
        "Substituindo temos: </br>\n",
        "$x(-\\frac{x}{\\sqrt{(x^2+1000^2)^{3}}})+(1(\\frac{1}{\\sqrt{x^2+1000^2}})$ </br>\n",
        "$-\\frac{x^2}{\\sqrt{(x^2+1000^2)^{3}}}+\\frac{1}{\\sqrt{x^2+1000^2}}$ </br>\n",
        "\n",
        "Voltando ao começo... precisamos lembrar que existe um 130... :) então: </br>\n",
        "$\\frac{d}{dx}130x(x^2+1000^2)^{-1/2} =\\frac{130}{\\sqrt{x^2+1000^2}}-\\frac{130x^2}{\\sqrt{(x^2+1000^2)^{3}}}$</br>\n",
        "\n",
        "Para encontrar o valor da segunda derivada no ponto $x=416,67$ precisamos substituir o valor de $x$: </br>\n",
        "\n",
        "$\\frac{d}{dx}130x((416.67)^2+1000^2)^{-1/2} =\\frac{130}{\\sqrt{(416.67)^2+1000^2}}-\\frac{130(416.67)^2}{\\sqrt{((416.67)^2+1000^2)^{3}}} = 0.1022$</br>\n",
        "\n",
        "A segunda derivada é positiva logo este é um ponto de mínimo. Agora podemos achar o custo total substituindo $x=416.667$ na nossa equação de custos:</br>\n",
        "\n",
        "$$C=250000-50x+130(\\sqrt{x^2+1000^2}) =250000-50(416.667)+130(\\sqrt{(416.667)^2+1000^2}) = 145000$$\n",
        "\n",
        "A distância a ser construída em terra: $5000-416.667 = 4583.33m$</br>\n",
        "A distância a ser construída sob o oceano:$\\sqrt{416.667^2+1000^2} = 1083.33m$\n"
      ]
    },
    {
      "cell_type": "code",
      "metadata": {
        "colab": {
          "base_uri": "https://localhost:8080/",
          "height": 285
        },
        "id": "kkXxvw-17Sk5",
        "outputId": "58582b55-38ec-40d7-ac8f-e1d751db1fbc"
      },
      "source": [
        "print(\"função: \")\n",
        "f = 25000-50*x+130*(sp.sqrt(x**2+1000**2))\n",
        "display(f)\n",
        "print(\"Primeira Derivada: \")\n",
        "df = sp.diff(f,x)\n",
        "display(df)\n",
        "print(\"Raízes da Primeira Derivada: \")\n",
        "print(sp.solve(df,x)[0].evalf())\n",
        "print(\"Segunda Derivada: \")\n",
        "dff = sp.diff(df,x)\n",
        "display(dff)\n",
        "print(\"Valor Segunda Derivada no ponto: \")\n",
        "display(dff.subs(x, 416.667))\n",
        "print(\"Calculando o custo total: \")\n",
        "display(f.subs(x, 416.667))"
      ],
      "execution_count": null,
      "outputs": [
        {
          "output_type": "stream",
          "text": [
            "função: \n"
          ],
          "name": "stdout"
        },
        {
          "output_type": "display_data",
          "data": {
            "text/latex": "$\\displaystyle - 50 x + 130 \\sqrt{x^{2} + 1000000} + 25000$",
            "text/plain": [
              "-50*x + 130*sqrt(x**2 + 1000000) + 25000"
            ]
          },
          "metadata": {
            "tags": []
          }
        },
        {
          "output_type": "stream",
          "text": [
            "Primeira Derivada: \n"
          ],
          "name": "stdout"
        },
        {
          "output_type": "display_data",
          "data": {
            "text/latex": "$\\displaystyle \\frac{130 x}{\\sqrt{x^{2} + 1000000}} - 50$",
            "text/plain": [
              "130*x/sqrt(x**2 + 1000000) - 50"
            ]
          },
          "metadata": {
            "tags": []
          }
        },
        {
          "output_type": "stream",
          "text": [
            "Raízes da Primeira Derivada: \n",
            "416.666666666667\n",
            "Segunda Derivada: \n"
          ],
          "name": "stdout"
        },
        {
          "output_type": "display_data",
          "data": {
            "text/latex": "$\\displaystyle - \\frac{130 x^{2}}{\\left(x^{2} + 1000000\\right)^{\\frac{3}{2}}} + \\frac{130}{\\sqrt{x^{2} + 1000000}}$",
            "text/plain": [
              "-130*x**2/(x**2 + 1000000)**(3/2) + 130/sqrt(x**2 + 1000000)"
            ]
          },
          "metadata": {
            "tags": []
          }
        },
        {
          "output_type": "stream",
          "text": [
            "Valor Segunda Derivada no ponto: \n"
          ],
          "name": "stdout"
        },
        {
          "output_type": "display_data",
          "data": {
            "text/latex": "$\\displaystyle 0.102248157697182$",
            "text/plain": [
              "0.102248157697182"
            ]
          },
          "metadata": {
            "tags": []
          }
        },
        {
          "output_type": "stream",
          "text": [
            "Calculando o custo total: \n"
          ],
          "name": "stdout"
        },
        {
          "output_type": "display_data",
          "data": {
            "text/latex": "$\\displaystyle 145000.000000006$",
            "text/plain": [
              "145000.000000006"
            ]
          },
          "metadata": {
            "tags": []
          }
        }
      ]
    }
  ]
}