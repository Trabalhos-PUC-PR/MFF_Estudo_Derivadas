{
  "nbformat": 4,
  "nbformat_minor": 0,
  "metadata": {
    "colab": {
      "name": "Cópia de RA1 MODELAGEM.ipynb",
      "provenance": [],
      "collapsed_sections": []
    },
    "kernelspec": {
      "name": "python3",
      "display_name": "Python 3"
    },
    "language_info": {
      "name": "python"
    }
  },
  "cells": [
    {
      "cell_type": "code",
      "metadata": {
        "colab": {
          "base_uri": "https://localhost:8080/"
        },
        "id": "glkK7q7lc6cu",
        "outputId": "d5db56c5-863b-46f6-9053-6c631760e3ac"
      },
      "source": [
        "import sympy as sp\n",
        "import numpy as np\n",
        "print(\"feito\")"
      ],
      "execution_count": null,
      "outputs": [
        {
          "output_type": "stream",
          "text": [
            "feito\n"
          ],
          "name": "stdout"
        }
      ]
    },
    {
      "cell_type": "markdown",
      "metadata": {
        "id": "ApsppM2Vhbfc"
      },
      "source": [
        "#EXERCÍCIO 1 KOVALSKI\n",
        "\n",
        "\n"
      ]
    },
    {
      "cell_type": "markdown",
      "metadata": {
        "id": "WYoVrpSRow8m"
      },
      "source": [
        "Temos o seguinte limite: $ \\lim_{x \\to \\infty } 3e^{-x}-8e^{-5x}-e^{10x}$\n",
        "\n",
        "aplicando a propriedade do expoente negativo: $ \\lim_{x \\to \\infty } \\frac{3}{e^{x}}-\\frac{8}{e^{5x}}-e^{10x}$\n",
        "\n",
        "a divisão dos numeradores pelos denominadores nesse caso tende a 0, pois é um numero muito pequeno dividido por um muito grande, ja o ultimo termo aumenta cada vez mais, sendo elevado a infinito: $\\lim_{x \\to \\infty } 0-0-\\infty$\n",
        "\n",
        "logo $ \\lim_{x \\to \\infty } 3e^{-x}-8e^{-5x}-e^{10x} = -\\infty$\n",
        "\n",
        ".\n",
        "\n",
        "Para o limite da formula acima tendendo a $-\\infty$, temos: $\\lim_{x \\to -\\infty } 3e^{-x}-8e^{-5x}-e^{10x}$\n",
        "\n",
        "\n",
        "Como $\\infty$ tente ao infinito negativo, o ultimo termo da equação é elevado a um termo negativo, tendendo a zero, e os outros termos são elevados a infinito: $\\lim_{x \\to \\infty } \\infty - \\infty - 0$\n",
        "\n",
        "Como $\\infty - \\infty$ é uma indeterminação, não podemos simplesmente realizar a subtração, mas devemos tentar se livrar dos $\\infty$, então colocamos o maior expoente negativo em evidencia: $\\lim_{x \\to -\\infty } e^{-5x}(3e^{-x}-8e^{-5x}-e^{10x})$\n",
        "\n",
        "$\\lim_{x \\to -\\infty } e^{-5x}(\\frac{3e^{-x}}{e^{-5x}}-\\frac{8e^{-5x}}{e^{-5x}}-\\frac{e^{10x}}{e^{-5x}})$\n",
        "\n",
        "Aplicando propriedade da divisão de numeros com expoentes, temos: $\\lim_{x \\to -\\infty } e^{-5x}({3e^{-x - (-5x)}}-8-e^{10x-(-5x)})$\n",
        "\n",
        "$\\lim_{x \\to -\\infty } e^{-5x}({3e^{4x}}-8-e^{15x})$\n",
        "\n",
        "Limite de x tendendo à menos infinito é $\\infty(0-8-0)$\n",
        "\n",
        "Logo, temos: $\\lim_{x \\to -\\infty } 3e^{-x}-8e^{-5x}-e^{10x} = -\\infty$, já que infinito está multiplicando um número negativo\n"
      ]
    },
    {
      "cell_type": "code",
      "metadata": {
        "id": "r12KY5OmhbG9",
        "colab": {
          "base_uri": "https://localhost:8080/",
          "height": 352
        },
        "outputId": "a515166c-8a54-4ebf-abd3-de8ecefd6c3f"
      },
      "source": [
        "x = sp.Symbol('x')\n",
        "\n",
        "Fa = ( 3*sp.exp(-x) - 8*sp.exp(-5*x)- sp.exp(10*x) ) #função a\n",
        "La1 = sp.limit(Fa , x, np.infty) #Limite a-1 (1 significa tendendo ao infinito)\n",
        "La2 = sp.limit(Fa , x, -np.infty) #Limite a-2 (2 significa tendendo ao menos infinito)\n",
        "print(\"(a) Tendendo ao infinito: \",La1)\n",
        "print(\"(a) Tendendo ao menos infinito: \",La2)\n",
        "sp.plot(Fa, line_color = \"red\", xlim = (-3, 3), ylim = (-300, 2))"
      ],
      "execution_count": null,
      "outputs": [
        {
          "output_type": "stream",
          "text": [
            "(a) Tendendo ao infinito:  -oo\n",
            "(a) Tendendo ao menos infinito:  -oo\n"
          ],
          "name": "stdout"
        },
        {
          "output_type": "display_data",
          "data": {
            "image/png": "[encoded data removed]",
            "text/plain": [
              "<Figure size 432x288 with 1 Axes>"
            ]
          },
          "metadata": {
            "tags": [],
            "needs_background": "light"
          }
        },
        {
          "output_type": "execute_result",
          "data": {
            "text/plain": [
              "<sympy.plotting.plot.Plot at 0x7ff5aa815210>"
            ]
          },
          "metadata": {
            "tags": []
          },
          "execution_count": 10
        }
      ]
    },
    {
      "cell_type": "markdown",
      "metadata": {
        "id": "f8LY8jxv5uFC"
      },
      "source": [
        "Temos $$\\frac{e^{-3x} - 2e^{8x}}{9e^{8x}-7e^{-3x}}$$\n",
        "\n",
        "Para $\\lim_{x \\to \\infty }$, os termos com expoente negativo tendem à $0$, então a equação fica: $\\lim_{x \\to \\infty }\\frac{0 - 2e^{8x}}{9e^{8x}-0}$\n",
        "\n",
        "Podemos cortar o $e^{8x}$, pois está ambos no numerador, e no denominador: $\\lim_{x \\to \\infty } = -\\frac{2}{9}$\n",
        "\n",
        ".\n",
        "\n",
        "E para $\\lim_{x \\to -\\infty }$, os elementos com expoente positivo tendem à $0$, então: $\\lim_{x \\to -\\infty } \\frac{e^{-3x} - 0}{0-7e^{-3x}}$\n",
        "\n",
        "Similar ao caso de cima, podemos cortar o $e^{-3x}$, por estar no numerador e denominador, restando então: $\\lim_{x \\to -\\infty} = -\\frac{1}{7}$"
      ]
    },
    {
      "cell_type": "code",
      "metadata": {
        "colab": {
          "base_uri": "https://localhost:8080/",
          "height": 352
        },
        "id": "c0M0Mb-o4T_w",
        "outputId": "432ce560-5df0-49fd-9d63-bbeb271aadc2"
      },
      "source": [
        "Fb = (( sp.exp(-3*x) - 2*sp.exp(8*x))/(9*sp.exp(8*x)-7*sp.exp(-3*x))) #função b\n",
        "Lb1=sp.limit(Fb, x, np.infty) #Limite b-1\n",
        "Lb2=sp.limit(Fb, x, -np.infty) #Limite b-2\n",
        "print(\"(b) Tendendo ao infinito: \",Lb1)\n",
        "print(\"(b) Tendendo ao menos infinito: \",Lb2)\n",
        "sp.plot(Fb, line_color = \"green\", xlim = (-0.2, 0.2), ylim = (-0.2, 0.1))"
      ],
      "execution_count": null,
      "outputs": [
        {
          "output_type": "stream",
          "text": [
            "(b) Tendendo ao infinito:  -2/9\n",
            "(b) Tendendo ao menos infinito:  -1/7\n"
          ],
          "name": "stdout"
        },
        {
          "output_type": "display_data",
          "data": {
            "image/png": "[encoded data removed]",
            "text/plain": [
              "<Figure size 432x288 with 1 Axes>"
            ]
          },
          "metadata": {
            "tags": [],
            "needs_background": "light"
          }
        },
        {
          "output_type": "execute_result",
          "data": {
            "text/plain": [
              "<sympy.plotting.plot.Plot at 0x7ff5aaa85b90>"
            ]
          },
          "metadata": {
            "tags": []
          },
          "execution_count": 8
        }
      ]
    },
    {
      "cell_type": "markdown",
      "metadata": {
        "id": "DRZHeJS0AwQ4"
      },
      "source": [
        "Temos $$\\frac{e^{-7x}-2e^{3x}-e^{x}}{e^{-x}+16e^{10x}+2e^{-4x}}$$\n",
        "\n",
        "Para $\\lim_{x \\to \\infty }$, similar à equação acima, os termos com expoente negativo tendem à $0$, então a equação fica: $$\\lim_{x \\to \\infty } \\frac{0-2e^{3x}-e^{x}}{0+16e^{10x}+0}$$\n",
        "\n",
        "Agora temos que deixar o termo com o maior expoente em evidência, nesse caso é o $e^{10x}$, então ficamos com: $$\\lim_{x \\to \\infty } e^{10x}\\frac{0-\\frac{2e^{3x}}{e^{10x}}-\\frac{e^{x}}{e^{10x}}}{0+\\frac{16e^{10x}}{e^{10x}}+0}$$\n",
        "\n",
        "Aplicando propriedades da divisão de expoentes de mesma base: $\\lim_{x \\to \\infty } e^{10x}\\frac{0-2e^{-7x}-e^{-9x}}{0+16+0}$\n",
        "\n",
        "$\\lim_{x \\to \\infty } \\infty \\frac{0-0-0}{0+16+0}$\n",
        "\n",
        "Como $0$ dividido por qualquer coisa é $0$, e o mesmo pode ser dito com a multiplicação, então:\n",
        "\n",
        "$$\\lim_{x \\to \\infty } \\frac{e^{-7x}-2e^{3x}-e^{x}}{e^{-x}+16e^{10x}+2e^{-4x}} = 0$$\n",
        "\n",
        "\n"
      ]
    },
    {
      "cell_type": "code",
      "metadata": {
        "colab": {
          "base_uri": "https://localhost:8080/",
          "height": 352
        },
        "id": "nRxqsuyO7u4c",
        "outputId": "44f9cdb9-3c63-4e91-e83a-16a2149c36e2"
      },
      "source": [
        "Fc = (( sp.exp(-7*x) - 2*sp.exp(3*x) - sp.exp(x))/(sp.exp(-x)+16*sp.exp(10*x) + 2 * sp.exp(-4*x))) #função c\n",
        "Lc1=sp.limit(Fc , x, np.infty) #Limite c-1\n",
        "Lc2=sp.limit(Fc , x, -np.infty) #Limite c-2 \n",
        "print(\"(c) Tendendo ao infinito: \",Lc1)\n",
        "print(\"(c) Tendendo ao menos infinito: \",Lc2)\n",
        "sp.plot(Fc, line_color = \"blue\", xlim = (-20, 20), ylim = (-80, 160))"
      ],
      "execution_count": null,
      "outputs": [
        {
          "output_type": "stream",
          "text": [
            "(c) Tendendo ao infinito:  0\n",
            "(c) Tendendo ao menos infinito:  oo\n"
          ],
          "name": "stdout"
        },
        {
          "output_type": "display_data",
          "data": {
            "image/png": "[encoded data removed]",
            "text/plain": [
              "<Figure size 432x288 with 1 Axes>"
            ]
          },
          "metadata": {
            "tags": [],
            "needs_background": "light"
          }
        },
        {
          "output_type": "execute_result",
          "data": {
            "text/plain": [
              "<sympy.plotting.plot.Plot at 0x7ff5aa894290>"
            ]
          },
          "metadata": {
            "tags": []
          },
          "execution_count": 9
        }
      ]
    },
    {
      "cell_type": "markdown",
      "metadata": {
        "id": "y09kAMnVggN5"
      },
      "source": [
        "#Exercício 2 Daniel Nowak\n",
        "\n",
        "$f(x) = \\frac{9}{(3 - x) ^ {5}}$\n",
        "\n",
        "#------------------------------------------------------------------------------\n",
        "\n",
        "$ \\lim_{x\\to\\infty ^ {+}} \\frac{9}{(3 - x) ^5} $\n",
        "\n",
        "para $x$ maior que 3, $f(x) = \\frac{9}{(3 - x) ^ {5}}$ tende a 0, como um número negativo extremamente baixo.   \n"
      ]
    },
    {
      "cell_type": "code",
      "metadata": {
        "id": "Em0CzLj1dNid"
      },
      "source": [
        "x = sp.Symbol(\"x\")\n",
        "sp.limit(9 / ((x - 3) ** 5), x, np.infty, '+')\n",
        "sp.plot(9 / (3 - x) ** 5, line_color = \"red\", xlim = (-100, 100), ylim = (-20, 20))"
      ],
      "execution_count": null,
      "outputs": []
    },
    {
      "cell_type": "markdown",
      "metadata": {
        "id": "HJUmYt--1RPd"
      },
      "source": [
        "#------------------------------------------------------------------------------\n",
        "\n",
        "$ \\lim_{x\\to\\infty ^ {-}} \\frac{9}{(3 - x) ^5} $\n",
        "\n",
        "para $x$ menor que 0, $f(x) = \\frac{9}{(3 - x) ^ {5}}$ tende a 0, cada vez $f(x)$ sendo um número positivo extremamente baixo.   "
      ]
    },
    {
      "cell_type": "code",
      "metadata": {
        "id": "jpq0WCbhdyRt"
      },
      "source": [
        "x = sp.Symbol(\"x\")\n",
        "sp.limit(9 / ((x -3) ** 5), x, -1 * np.infty, '-')"
      ],
      "execution_count": null,
      "outputs": []
    },
    {
      "cell_type": "markdown",
      "metadata": {
        "id": "Arn0vTsXHzn2"
      },
      "source": [
        "$ \\lim_{x\\to\\infty ^ {+}} \\frac{9}{(3 - x) ^5}  =  \\lim_{x\\to\\infty ^ {-}} \\frac{9}{(3 - x) ^5} $, portando $ \\lim_{x\\to\\infty} \\frac{9}{(3 - x) ^5}$ existe"
      ]
    },
    {
      "cell_type": "markdown",
      "metadata": {
        "id": "Bi2kGFz0hmZc"
      },
      "source": [
        "#Exercício 3 Pedro\n",
        "\n",
        "\n",
        "não esquece de verificar se o wolfram tá certo"
      ]
    },
    {
      "cell_type": "code",
      "metadata": {
        "id": "Yxeb9lOkhqFL"
      },
      "source": [
        ""
      ],
      "execution_count": null,
      "outputs": []
    }
  ]
}